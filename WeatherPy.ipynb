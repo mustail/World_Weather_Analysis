{
 "cells": [
  {
   "cell_type": "code",
   "execution_count": 1,
   "id": "6beda17d",
   "metadata": {},
   "outputs": [],
   "source": [
    "import pandas as pd\n",
    "import matplotlib.pyplot as plt\n",
    "import numpy as np"
   ]
  },
  {
   "cell_type": "code",
   "execution_count": 2,
   "id": "be4c919a",
   "metadata": {},
   "outputs": [
    {
     "data": {
      "text/plain": [
       "<zip at 0x7fa6325eeb90>"
      ]
     },
     "execution_count": 2,
     "metadata": {},
     "output_type": "execute_result"
    }
   ],
   "source": [
    "# Create a set of random latitude and longitude combinations.\n",
    "lats = np.random.uniform(low=-90.000, high=90.000, size=1500)\n",
    "lngs = np.random.uniform(low=-180.000, high=180.000, size=1500)\n",
    "lat_lngs = zip(lats, lngs)\n",
    "lat_lngs"
   ]
  },
  {
   "cell_type": "code",
   "execution_count": 3,
   "id": "ad4d3ce9",
   "metadata": {},
   "outputs": [],
   "source": [
    "# The zip object packs each pair of lats and lngs having the same index in their respective array into a tuple.\n",
    "# If there are 1,500 latitudes and longitudes, there will be 1,500 tuples of paired latitudes and longitudes,\n",
    "# where each latitude and longitude in a tuple can be accessed by the index of 0 and 1, respectively.\n",
    "\n",
    "# Add the latitudes and longitudes to a list.\n",
    "coordinates = list(lat_lngs)\n",
    "\n"
   ]
  },
  {
   "cell_type": "code",
   "execution_count": 4,
   "id": "391e6407",
   "metadata": {},
   "outputs": [],
   "source": [
    "# You can only unzip a zipped tuple once before it is removed from the computer's memory.\n",
    "# Make sure you unzip the latitudes and longitudes into the coordinates list before moving on.\n",
    "# Now that we have our ordered pairs of latitudes and longitudes in a list, we can iterate through\n",
    "# the list of tuples and find the nearest city to those coordinates."
   ]
  },
  {
   "cell_type": "code",
   "execution_count": 6,
   "id": "55878fae",
   "metadata": {},
   "outputs": [],
   "source": [
    "# Use the citipy module to determine city based on latitude and longitude.\n",
    "from citipy import citipy"
   ]
  },
  {
   "cell_type": "code",
   "execution_count": 7,
   "id": "1976f606",
   "metadata": {},
   "outputs": [
    {
     "data": {
      "text/plain": [
       "617"
      ]
     },
     "execution_count": 7,
     "metadata": {},
     "output_type": "execute_result"
    }
   ],
   "source": [
    "# Create a list for holding the cities.\n",
    "cities = []\n",
    "# Identify the nearest city for each latitude and longitude combination.\n",
    "for coordinate in coordinates:\n",
    "    city = citipy.nearest_city(coordinate[0], coordinate[1]).city_name\n",
    "\n",
    "    # If the city is unique, then we will add it to the cities list.\n",
    "    if city not in cities:\n",
    "        cities.append(city)\n",
    "# Print the city count to confirm sufficient count.\n",
    "len(cities)"
   ]
  },
  {
   "cell_type": "code",
   "execution_count": null,
   "id": "24a5c2b7",
   "metadata": {},
   "outputs": [],
   "source": [
    "# Some of this code should look familiar, but let's break it down:\n",
    "\n",
    "# We create a cities list to store city names.\n",
    "# We iterate through the coordinates, as in our practice, and retrieve the nearest city\n",
    "# using the latitude and longitude pair.\n",
    "# We add a decision statement with the logical operator not in to determine whether\n",
    "# the found city is already in the cities list. If not, then we'll use the\n",
    "# append() function to add it. We are doing this because among the 1,500 latitudes\n",
    "# and longitudes, there might be duplicates, which will retrieve duplicate cities,\n",
    "# and we want to be sure we capture only the unique cities."
   ]
  },
  {
   "cell_type": "code",
   "execution_count": null,
   "id": "5c547883",
   "metadata": {},
   "outputs": [],
   "source": []
  },
  {
   "cell_type": "code",
   "execution_count": null,
   "id": "9fe9b987",
   "metadata": {},
   "outputs": [],
   "source": []
  }
 ],
 "metadata": {
  "kernelspec": {
   "display_name": "PythonData",
   "language": "python",
   "name": "pythondata"
  },
  "language_info": {
   "codemirror_mode": {
    "name": "ipython",
    "version": 3
   },
   "file_extension": ".py",
   "mimetype": "text/x-python",
   "name": "python",
   "nbconvert_exporter": "python",
   "pygments_lexer": "ipython3",
   "version": "3.7.10"
  }
 },
 "nbformat": 4,
 "nbformat_minor": 5
}
