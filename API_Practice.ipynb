{
 "cells": [
  {
   "cell_type": "code",
   "execution_count": 1,
   "id": "a1d52157",
   "metadata": {},
   "outputs": [],
   "source": [
    "# Let's practice zipping a small number of latitudes and longitudes and then unpacking the zipped tuple\n",
    "# to see how the packing and unpacking work.\n",
    "\n",
    "# In a new Jupyter Notebook file called API_practice.ipynb, add the following lists and pack them into\n",
    "# the zipped tuple. Then, run the cell.\n",
    "\n",
    "# Create a practice set of random latitude and longitude combinations.\n",
    "x = [25.12903645, 25.92017388, 26.62509167, -59.98969384, 37.30571269]\n",
    "y = [-67.59741259, 11.09532135, 74.84233102, -76.89176677, -61.13376282]\n",
    "coordinates = zip(x, y)\n"
   ]
  },
  {
   "cell_type": "code",
   "execution_count": 2,
   "id": "68092298",
   "metadata": {},
   "outputs": [
    {
     "name": "stdout",
     "output_type": "stream",
     "text": [
      "25.12903645 -67.59741259\n",
      "25.92017388 11.09532135\n",
      "26.62509167 74.84233102\n",
      "-59.98969384 -76.89176677\n",
      "37.30571269 -61.13376282\n"
     ]
    }
   ],
   "source": [
    "# Use the tuple() function to display the latitude and longitude combinations.\n",
    "for coordinate in coordinates:\n",
    "    print(coordinate[0], coordinate[1])"
   ]
  },
  {
   "cell_type": "code",
   "execution_count": 3,
   "id": "33f156db",
   "metadata": {},
   "outputs": [],
   "source": [
    "# Let's import the citipy script and practice using it. In our API_practice file, add a new cell#\n",
    "# and import the citipy.py script from the citipy module."
   ]
  },
  {
   "cell_type": "code",
   "execution_count": 4,
   "id": "12e241a1",
   "metadata": {},
   "outputs": [],
   "source": [
    "# Use the citipy module to determine city based on latitude and longitude.\n",
    "from citipy import citipy"
   ]
  },
  {
   "cell_type": "code",
   "execution_count": 5,
   "id": "73730154",
   "metadata": {},
   "outputs": [],
   "source": [
    "#In a new cell, create a for loop that will do the following:\n",
    "\n",
    "# Iterate through the coordinates' zipped tuple.\n",
    "# Use citipy.nearest_city() and inside the parentheses of nearest_city(), add the latitude and longitude in this format: coordinate[0], coordinate[1].\n",
    "# To print the city name, chain the city_name to the nearest_city() function.\n",
    "# To print the country name, chain the country_code to the nearest_city() function."
   ]
  },
  {
   "cell_type": "code",
   "execution_count": 6,
   "id": "6af24177",
   "metadata": {},
   "outputs": [],
   "source": [
    "# Use the tuple() function to display the latitude and longitude combinations.\n",
    "for coordinate in coordinates:\n",
    "    print(citipy.nearest_city(coordinate[0], coordinate[1]).city_name,\n",
    "          citipy.nearest_city(coordinate[0], coordinate[1]).country_code)"
   ]
  },
  {
   "cell_type": "code",
   "execution_count": null,
   "id": "bccc1b27",
   "metadata": {},
   "outputs": [],
   "source": []
  }
 ],
 "metadata": {
  "kernelspec": {
   "display_name": "PythonData",
   "language": "python",
   "name": "pythondata"
  },
  "language_info": {
   "codemirror_mode": {
    "name": "ipython",
    "version": 3
   },
   "file_extension": ".py",
   "mimetype": "text/x-python",
   "name": "python",
   "nbconvert_exporter": "python",
   "pygments_lexer": "ipython3",
   "version": "3.7.10"
  }
 },
 "nbformat": 4,
 "nbformat_minor": 5
}
