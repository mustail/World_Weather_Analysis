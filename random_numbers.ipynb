{
 "cells": [
  {
   "cell_type": "code",
   "execution_count": 1,
   "id": "b7331ffc",
   "metadata": {},
   "outputs": [],
   "source": [
    "# import random data module\n",
    "import random"
   ]
  },
  {
   "cell_type": "code",
   "execution_count": 2,
   "id": "ea89e76c",
   "metadata": {},
   "outputs": [
    {
     "data": {
      "text/plain": [
       "2"
      ]
     },
     "execution_count": 2,
     "metadata": {},
     "output_type": "execute_result"
    }
   ],
   "source": [
    "# single integer b/w -90 and 90 because we need two latitudes between -90 and 90\n",
    "random.randint(-90,90)"
   ]
  },
  {
   "cell_type": "code",
   "execution_count": 3,
   "id": "72190885",
   "metadata": {},
   "outputs": [
    {
     "data": {
      "text/plain": [
       "0.8438554449198044"
      ]
     },
     "execution_count": 3,
     "metadata": {},
     "output_type": "execute_result"
    }
   ],
   "source": [
    "# get a single floating-point decimal number b/w 0 and 1.0\n",
    "random.random()"
   ]
  },
  {
   "cell_type": "code",
   "execution_count": 4,
   "id": "e5bcc35b",
   "metadata": {},
   "outputs": [
    {
     "data": {
      "text/plain": [
       "31.10152131210869"
      ]
     },
     "execution_count": 4,
     "metadata": {},
     "output_type": "execute_result"
    }
   ],
   "source": [
    "#  If we combine random.randint(-90, 89) and random.random() to generate a floating-point decimal between –90\n",
    "# and 90, we can generate a random latitude.\n",
    "random_number = random.randint(-90,89) + random.random()\n",
    "random_number\n"
   ]
  },
  {
   "cell_type": "code",
   "execution_count": 5,
   "id": "590b212f",
   "metadata": {},
   "outputs": [
    {
     "data": {
      "text/plain": [
       "[34.53678110773124,\n",
       " 53.55520926186052,\n",
       " 89.25425475846072,\n",
       " -3.0697531583934006,\n",
       " -57.72873239280327,\n",
       " -67.86250331056263,\n",
       " -82.91155618871512,\n",
       " 41.03848325668136,\n",
       " 65.00918618425115,\n",
       " -76.79965002149552]"
      ]
     },
     "execution_count": 5,
     "metadata": {},
     "output_type": "execute_result"
    }
   ],
   "source": [
    "# Using these two functions, we can write an algorithm that will generate latitudes between –90 and 89.\n",
    "# Here is a small sample of what it might take to generate ten random floating-point decimal latitudes\n",
    "# between –90 and 89.\n",
    "x = 1\n",
    "latitudes = []\n",
    "while x < 11:\n",
    "    random_lat = random.randint(-90,89) + random.random()\n",
    "    latitudes.append(random_lat)\n",
    "    x += 1\n",
    "    \n",
    "latitudes\n"
   ]
  },
  {
   "cell_type": "code",
   "execution_count": 6,
   "id": "06152cb7",
   "metadata": {},
   "outputs": [
    {
     "data": {
      "text/plain": [
       "-76"
      ]
     },
     "execution_count": 6,
     "metadata": {},
     "output_type": "execute_result"
    }
   ],
   "source": [
    "# The randrange() function behaves differently than the previous two functions. Inside the parentheses,\n",
    "# we need to add two numbers, a lower and upper limit, separated by a comma.\n",
    "# For the randrange() function, there is an option to add a step parameter and set it equal to an integer,\n",
    "# which will generate increments of a given integer value, from the lower to the upper limit.\n",
    "\n",
    "random.randrange(-90,90,step =1)"
   ]
  },
  {
   "cell_type": "code",
   "execution_count": 7,
   "id": "3445eba1",
   "metadata": {},
   "outputs": [
    {
     "data": {
      "text/plain": [
       "-48"
      ]
     },
     "execution_count": 7,
     "metadata": {},
     "output_type": "execute_result"
    }
   ],
   "source": [
    "random.randrange(-90,90,step=3)"
   ]
  },
  {
   "cell_type": "code",
   "execution_count": 8,
   "id": "b8e20f56",
   "metadata": {},
   "outputs": [
    {
     "data": {
      "text/plain": [
       "82.24800871709323"
      ]
     },
     "execution_count": 8,
     "metadata": {},
     "output_type": "execute_result"
    }
   ],
   "source": [
    "# The uniform() function will allow us to generate a floating-point decimal number between\n",
    "# two given numbers inside the parentheses.\n",
    "# This is useful b/c it will return a floating-point decimal number.\n",
    "random.uniform(-90,90)\n"
   ]
  },
  {
   "cell_type": "code",
   "execution_count": 9,
   "id": "070469c3",
   "metadata": {},
   "outputs": [
    {
     "data": {
      "text/plain": [
       "69.40228951219672"
      ]
     },
     "execution_count": 9,
     "metadata": {},
     "output_type": "execute_result"
    }
   ],
   "source": [
    "# The NumPy and random Modules\n",
    "\n",
    "# One way to generate more than a thousand latitudes and longitudes is to chain the NumPy module\n",
    "# to the random module to create an array of latitudes or longitudes between the lowest and\n",
    "# highest values, or –90° and 90°, and –180° and 180°, respectively. To accomplish this,\n",
    "# we'll use the uniform() function from the random module.\n",
    "\n",
    "# Recall that the NumPy module is a numerical mathematics library that can be used to\n",
    "# make arrays or matrices of numbers.\n",
    "\n",
    "# import the numpy module\n",
    "import numpy as np\n",
    "\n",
    "# The NumPy module has a built-in random module, and supplements the built-in Python random module.\n",
    "# There is no need to import the random module if we import the NumPy module, as it's redundant.\n",
    "\n",
    "np.random.uniform(-90.000,90.000)\n",
    "\n",
    "# When we use the NumPy module with the random.uniform() function, the parenthetical parameters contain\n",
    "# a lower boundary (low value) and an upper boundary (high value) that are floating-point decimal numbers.\n"
   ]
  },
  {
   "cell_type": "code",
   "execution_count": 10,
   "id": "459e15c3",
   "metadata": {},
   "outputs": [
    {
     "data": {
      "text/plain": [
       "78.96940367080029"
      ]
     },
     "execution_count": 10,
     "metadata": {},
     "output_type": "execute_result"
    }
   ],
   "source": [
    "# Another option is to write the parameters as\n",
    "np.random.uniform(low=-90, high=90)"
   ]
  },
  {
   "cell_type": "code",
   "execution_count": 11,
   "id": "7e8aa945",
   "metadata": {},
   "outputs": [
    {
     "data": {
      "text/plain": [
       "array([-62.49737384,  39.97255453,  67.37556158,  20.27753749,\n",
       "        82.48945141,  69.95423041,  64.07325333, -66.9895857 ,\n",
       "        25.64553205, -77.11306071,  66.97061317, -49.93411342,\n",
       "       -19.89381179,  14.36954173,  41.00944322, -87.90724404,\n",
       "       -56.95160813,   3.39816821,  64.37042434, -42.4552315 ,\n",
       "       -53.83880245, -31.03361271, -39.58204663, -79.5371815 ,\n",
       "       -29.19208129,  48.4569098 , -68.15178775, -59.35973866,\n",
       "       -87.03806322, -47.53877667,  14.79992664,  78.4003457 ,\n",
       "        85.76199489,  53.76382311, -28.90132269,  61.87666435,\n",
       "        34.1961676 , -33.32683638,  89.84476714, -26.55516712,\n",
       "        62.86105169, -76.37939963, -82.48314018,  70.6454882 ,\n",
       "       -85.14885094,  65.08264398,  32.53081911, -63.59357428,\n",
       "       -35.13070325, -80.9373496 ])"
      ]
     },
     "execution_count": 11,
     "metadata": {},
     "output_type": "execute_result"
    }
   ],
   "source": [
    "# To generate more than one floating-point decimal number between –90 and 90, we can add the size parameter\n",
    "# when we use the NumPy module and set that equal to any whole number.\n",
    "\n",
    "np.random.uniform(-90.000, 90.000, size=50)\n",
    "\n"
   ]
  },
  {
   "cell_type": "code",
   "execution_count": 12,
   "id": "9f057e49",
   "metadata": {},
   "outputs": [
    {
     "name": "stdout",
     "output_type": "stream",
     "text": [
      "15.1 µs ± 134 ns per loop (mean ± std. dev. of 7 runs, 100000 loops each)\n"
     ]
    }
   ],
   "source": [
    "# Is this method faster than creating a while loop like we did before? Let's test this for a size of 1,500.\n",
    "\n",
    "# To test how long a piece of code or function takes to run, we can import the \"timeit\" module\n",
    "# and use the %timeit magic command when we run our code or call the function.\n",
    "\n",
    "# import timeit\n",
    "import timeit\n",
    "\n",
    "%timeit np.random.uniform(-90.000,90.000,size=1500)"
   ]
  },
  {
   "cell_type": "code",
   "execution_count": 13,
   "id": "ede07d56",
   "metadata": {},
   "outputs": [
    {
     "name": "stdout",
     "output_type": "stream",
     "text": [
      "1.45 ms ± 2.69 µs per loop (mean ± std. dev. of 7 runs, 1000 loops each)\n"
     ]
    }
   ],
   "source": [
    "def latitudes(size):\n",
    "    latitudes = []\n",
    "    x = 0\n",
    "    while x < (size):\n",
    "        random_lat = random.randint(-90, 90) + random.random()\n",
    "        latitudes.append(random_lat)\n",
    "        x += 1\n",
    "    return latitudes\n",
    "# Call the function with 1500.\n",
    "%timeit latitudes(1500)"
   ]
  },
  {
   "cell_type": "code",
   "execution_count": null,
   "id": "5f5d8d8f",
   "metadata": {},
   "outputs": [],
   "source": [
    "# Using the np.random.uniform(-90.000, 90.000, size=1500) is 100 times faster than using the function,\n",
    "# and our code is one line, whereas the function uses eight lines!"
   ]
  },
  {
   "cell_type": "code",
   "execution_count": 14,
   "id": "c99c58ce",
   "metadata": {},
   "outputs": [
    {
     "name": "stdout",
     "output_type": "stream",
     "text": [
      "1.39 ms ± 10.8 µs per loop (mean ± std. dev. of 7 runs, 1000 loops each)\n"
     ]
    }
   ],
   "source": [
    "# skill drill\n",
    "# Refactor the code for the while loop with the %timeit magic command and write a for loop\n",
    "# that will generate the 1,500 latitudes.\n",
    "def latitudes(size):\n",
    "    latitudes = []\n",
    "    for x in range(size):\n",
    "        random_lat = random.randint(-90,89) + random.random()\n",
    "        latitudes.append(random_lat)\n",
    "    return latitudes\n",
    "    \n",
    "%timeit latitudes(1500)"
   ]
  },
  {
   "cell_type": "code",
   "execution_count": null,
   "id": "bdf7c594",
   "metadata": {},
   "outputs": [],
   "source": []
  }
 ],
 "metadata": {
  "kernelspec": {
   "display_name": "PythonData",
   "language": "python",
   "name": "pythondata"
  },
  "language_info": {
   "codemirror_mode": {
    "name": "ipython",
    "version": 3
   },
   "file_extension": ".py",
   "mimetype": "text/x-python",
   "name": "python",
   "nbconvert_exporter": "python",
   "pygments_lexer": "ipython3",
   "version": "3.7.10"
  }
 },
 "nbformat": 4,
 "nbformat_minor": 5
}
